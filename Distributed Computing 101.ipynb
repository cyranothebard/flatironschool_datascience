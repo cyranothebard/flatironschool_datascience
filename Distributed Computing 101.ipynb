{
 "cells": [
  {
   "cell_type": "markdown",
   "metadata": {},
   "source": [
    "# Distributed Computing 101"
   ]
  },
  {
   "cell_type": "markdown",
   "metadata": {},
   "source": [
    "## Hardware Guide\n",
    "\n",
    "**CPU**\n",
    "\n",
    "CPUs alone are really slow for deep learning. You do not want to use them. They are fine for many machine learning tasks, just not deep learning. The CPU is the horse and buggy of deep learning.\n",
    "\n",
    "**GPU**\n",
    "\n",
    "GPUs are much faster than CPUs for most deep learning computations. NVDIA makes most of the GPUs on the market. \n",
    "\n",
    "    NVIDIA K80 - the minimum you need to get started with deep learning and not have excruciatingly slow training times. The K80 is like the Ford Model A — a whole new way to get around.\n",
    "    \n",
    "    NVIDIA P4s - faster than K80s. They are like the Ford Fiesta. Definitely an improvement over a Model A. They aren’t super common.\n",
    "    \n",
    "    P100 - step up from the Fiesta. It’s a pretty fast chip. Totally fine for most deep learning applications.\n",
    "    \n",
    "    V100 - like the Ford Mustang: fast. It’s your best option if you are using PyTorch right now.\n",
    "    \n",
    "    \n",
    "**TPU**\n",
    "\n",
    "Ford GT race car for matrix computations\n",
    "\n",
    "    TPU v3s - fastest chips you can find for deep learning today. They are great for training Keras/TensorFlow deep learning models. They are like a jet car."
   ]
  },
  {
   "cell_type": "markdown",
   "metadata": {},
   "source": [
    "## Platform Option Comparisons\n",
    "\n",
    "**Google Colab**\n",
    "- free\n",
    "- GPUs and TPUs available\n",
    "\n",
    "**Google Cloud Platform (GCP)**\n",
    "- not free\n",
    "- requires setup/customization\n",
    "- easy to use interface\n",
    "\n",
    "**Paperspace**\n",
    "- not free\n",
    "- GPUs and TPUs available\n",
    "- advanced security features\n",
    "- easy to use interface\n",
    "\n",
    "**Vast.ai**\n",
    "\n",
    "- cheap\n",
    "- renting hardware both personal and industrial\n",
    "- not super secure"
   ]
  },
  {
   "cell_type": "markdown",
   "metadata": {},
   "source": [
    "## Resources\n",
    "\n",
    "General:\n",
    "\n",
    "https://towardsdatascience.com/maximize-your-gpu-dollars-a9133f4e546a\n",
    "\n",
    "Paperspace:\n",
    "\n",
    "https://towardsdatascience.com/how-to-set-up-a-powerful-and-cost-efficient-gpu-server-for-deep-learning-aa1de0d4ea56\n",
    "\n",
    "Colab:\n",
    "\n",
    "https://www.kdnuggets.com/2018/02/google-colab-free-gpu-tutorial-tensorflow-keras-pytorch.html\n",
    "\n",
    "https://adventuresinmachinelearning.com/introduction-to-google-colaboratory/\n",
    "\n",
    "GCP:\n",
    "\n",
    "https://cloud.google.com/deep-learning-vm/\n",
    "\n",
    "https://cloud.google.com/ml-engine/docs/tensorflow/getting-started-training-prediction"
   ]
  },
  {
   "cell_type": "code",
   "execution_count": null,
   "metadata": {},
   "outputs": [],
   "source": []
  }
 ],
 "metadata": {
  "kernelspec": {
   "display_name": "Python 3",
   "language": "python",
   "name": "python3"
  },
  "language_info": {
   "codemirror_mode": {
    "name": "ipython",
    "version": 3
   },
   "file_extension": ".py",
   "mimetype": "text/x-python",
   "name": "python",
   "nbconvert_exporter": "python",
   "pygments_lexer": "ipython3",
   "version": "3.7.1"
  },
  "toc": {
   "base_numbering": 1,
   "nav_menu": {},
   "number_sections": true,
   "sideBar": true,
   "skip_h1_title": false,
   "title_cell": "Table of Contents",
   "title_sidebar": "Contents",
   "toc_cell": false,
   "toc_position": {},
   "toc_section_display": true,
   "toc_window_display": false
  },
  "varInspector": {
   "cols": {
    "lenName": 16,
    "lenType": 16,
    "lenVar": 40
   },
   "kernels_config": {
    "python": {
     "delete_cmd_postfix": "",
     "delete_cmd_prefix": "del ",
     "library": "var_list.py",
     "varRefreshCmd": "print(var_dic_list())"
    },
    "r": {
     "delete_cmd_postfix": ") ",
     "delete_cmd_prefix": "rm(",
     "library": "var_list.r",
     "varRefreshCmd": "cat(var_dic_list()) "
    }
   },
   "types_to_exclude": [
    "module",
    "function",
    "builtin_function_or_method",
    "instance",
    "_Feature"
   ],
   "window_display": false
  }
 },
 "nbformat": 4,
 "nbformat_minor": 2
}
